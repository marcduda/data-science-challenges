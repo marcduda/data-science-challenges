{
 "cells": [
  {
   "cell_type": "markdown",
   "metadata": {},
   "source": [
    "We load the data with the features.\n",
    "The booked column is the label.\n",
    "We hot encode the categorical feature cabin_class and drop one.\n",
    "To tune the classifier, we divide the data into training, testing and validation sets."
   ]
  },
  {
   "cell_type": "code",
   "execution_count": null,
   "metadata": {
    "collapsed": true
   },
   "outputs": [],
   "source": [
    "import pandas as pd\n",
    "from sklearn.linear_model import SGDClassifier\n",
    "from sklearn.model_selection import train_test_split\n",
    "from sklearn import metrics\n",
    "\n",
    "\n",
    "df = pd.read_csv('features_classification.csv')\n",
    "df = df.drop(['booking_id'], axis=1) \n",
    "y = df['booked'].values\n",
    "X = df.drop('booked',1)\n",
    "dummies = pd.get_dummies(X[['cabin_class']])\n",
    "X = pd.concat([X, dummies], axis=1)\n",
    "X = X.drop(['cabin_class','cabin_class_mixed'], 1)\n",
    "\n",
    "X_, X_test, y_, y_test = train_test_split(X,y, test_size=0.40, random_state=42)#[:20000] \n",
    "X_train, X_valid, y_train, y_valid = train_test_split(X_ ,y_ , test_size=0.40, random_state=42)"
   ]
  },
  {
   "cell_type": "markdown",
   "metadata": {},
   "source": [
    "I chose to use a svm classifier for the task since the processing is much more faster.\n",
    "I looked at the precision, recall and f1 metrics on the testing dataset to see how to tune the classifier.\n",
    "I also chose to add a weight to the classes since the booked class is under-represented, it then forces the classifier to concentrate on the small class.\n",
    "I also tried to find the best combination of parameters with a search grid even if the computation time is important."
   ]
  },
  {
   "cell_type": "code",
   "execution_count": null,
   "metadata": {
    "collapsed": true
   },
   "outputs": [],
   "source": [
    "class_weight = {1: 30, 0: 1}\n",
    "\n",
    "clf = SGDClassifier(loss='hinge', penalty='l2',alpha=1e-3, random_state=42,max_iter=10, tol=None,class_weight=class_weight)\n",
    "clf.fit(X_train,y_train)\n",
    "predicted_SVM = clf.predict(X_test)\n",
    "print(\"SVM part, metrics on test set:\")\n",
    "print(metrics.classification_report(y_test, predicted_SVM))\n",
    "\n",
    "#from sklearn.model_selection import GridSearchCV\n",
    "#parameters = {'max_iter':(5,10,15),'alpha': (1e-2, 1e-3),'class_weight':({1: 10, 0: 1},{1: 20, 0: 1},{1: 30, 0: 1})}\n",
    "#gs_clf = GridSearchCV(clf, parameters, n_jobs=-1)\n",
    "#gs_clf = gs_clf.fit(X_train, y_train)\n",
    "#print(gs_clf.best_score_)                                 \n",
    "#\n",
    "#for param_name in sorted(parameters.keys()):\n",
    "#    print(\"%s: %r\" % (param_name, gs_clf.best_params_[param_name]))"
   ]
  },
  {
   "cell_type": "markdown",
   "metadata": {},
   "source": [
    "To be sure that I don't tune in too much the model, I predicted some data that the model has never see."
   ]
  },
  {
   "cell_type": "code",
   "execution_count": null,
   "metadata": {
    "collapsed": true
   },
   "outputs": [],
   "source": [
    "\n",
    "predicted_valid_SVM = clf.predict(X_valid)\n",
    "print(\"SVM part, metrics on validation set:\")\n",
    "print(metrics.classification_report(y_valid, predicted_valid_SVM))"
   ]
  },
  {
   "cell_type": "markdown",
   "metadata": {},
   "source": [
    "For this problem, I basically considered the same set of features as for the regression problem, I can imagine that not all of these are that relevant for this task. We are here trying to understand the decisions of a user, I would thus try to look more into that direction maybe by working on the session_ids or the user_agent. Something that I haven't considered at all. "
   ]
  }
 ],
 "metadata": {
  "kernelspec": {
   "display_name": "Python 3",
   "language": "python",
   "name": "python3"
  },
  "language_info": {
   "codemirror_mode": {
    "name": "ipython",
    "version": 3
   },
   "file_extension": ".py",
   "mimetype": "text/x-python",
   "name": "python",
   "nbconvert_exporter": "python",
   "pygments_lexer": "ipython3",
   "version": "3.6.1"
  }
 },
 "nbformat": 4,
 "nbformat_minor": 2
}
