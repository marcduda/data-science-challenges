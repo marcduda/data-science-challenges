{
 "cells": [
  {
   "cell_type": "markdown",
   "metadata": {},
   "source": [
    "We have to solve two problems:\n",
    "\n",
    "First one: to predict the airfare that appears for a search of a flight itinerary. It is a regression problem, because we want to predict a continuous value. We clean and extract the features with the FeatureRegression.ipynb notebook and then build the regression model with the Regression.ipynb notebook.\n",
    "\n",
    "Second one: to predict if a search will be actually booked or not. It is a classification problem, we have two classes booked and not booked. We clean and extract the features with the FeatureClassification.ipynb notebook and then build the classifier with the Classification.ipynb notebook."
   ]
  }
 ],
 "metadata": {
  "kernelspec": {
   "display_name": "Python 3",
   "language": "python",
   "name": "python3"
  },
  "language_info": {
   "codemirror_mode": {
    "name": "ipython",
    "version": 3
   },
   "file_extension": ".py",
   "mimetype": "text/x-python",
   "name": "python",
   "nbconvert_exporter": "python",
   "pygments_lexer": "ipython3",
   "version": "3.6.1"
  }
 },
 "nbformat": 4,
 "nbformat_minor": 2
}
