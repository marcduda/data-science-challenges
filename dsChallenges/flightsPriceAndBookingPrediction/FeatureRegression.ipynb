{
 "cells": [
  {
   "cell_type": "markdown",
   "metadata": {},
   "source": [
    "For this problem, we don't care if a search is booked or not so we can use the data from the booking_data file to have a bigger dataset."
   ]
  },
  {
   "cell_type": "code",
   "execution_count": null,
   "metadata": {
    "collapsed": true
   },
   "outputs": [],
   "source": [
    "import pandas as pd\n",
    "import numpy as np\n",
    "import datetime as date\n",
    "from pytz import timezone\n",
    "import re\n",
    "import warnings\n",
    "warnings.filterwarnings('ignore')\n",
    "\n",
    "\n",
    "df_search = pd.read_csv('search_data.csv')\n",
    "df_booking = pd.read_csv('booking_data.csv')\n",
    "df_search = df_search.drop_duplicates()\n",
    "df_booking = df_booking.drop_duplicates()\n",
    "df_booking=df_booking.rename(columns = {'booking_id':'search_id','booking_user_id':'search_user_id','booking_time':'search_time','arrial_datetime_2':'arrival_datetime_2'})\n",
    "df_search = pd.concat([df_search,df_booking])"
   ]
  },
  {
   "cell_type": "markdown",
   "metadata": {},
   "source": [
    "First we clear out some inconsistencies in the data such as a search with 0 passengers but an airfare. \n",
    "We also regroup the category of cabin_class into more coherent classes and we transform all the airfares into the same currency.\n",
    "I only managed to find a simple external dataset of principal (ie only 33) currencies exchange rate to euro so I left out the rows with a currency that was not in this external dataset."
   ]
  },
  {
   "cell_type": "code",
   "execution_count": null,
   "metadata": {
    "collapsed": true
   },
   "outputs": [],
   "source": [
    "df_search = df_search[df_search.passengers != 0]\n",
    "\n",
    "df_search['cabin_class'] = df_search['cabin_class'].map({'economy':'economy', 'Economy':'economy', 'Business':'business', 'mixed':'mixed', 'First':'first', 'business':'business',\n",
    " 'premium_economy':'premium_economy', 'first':'first', 'Premium Economy':'premium_economy', 'First Class':'first', 'COACH':'economy',\n",
    " 'premiumEconomy':'premium_economy', 'ECONOMY':'economy'})\n",
    "\n",
    "df_exrate = pd.read_csv('eurofxref.csv')\n",
    "\n",
    "df_exrate.columns = [name.strip() for name in df_exrate.columns]\n",
    "df_exrate.drop('',1)\n",
    "df_principal_currency = df_search[df_search.currency.isin(list(df_exrate.columns))]\n",
    "sLength = len(df_principal_currency['currency'])\n",
    "df_principal_currency['exchange']=df_principal_currency.apply(lambda df: df_exrate[df.currency][0], axis=1)\n",
    "df_principal_currency['fare_eur']=df_principal_currency.fare/df_principal_currency.exchange\n"
   ]
  },
  {
   "cell_type": "markdown",
   "metadata": {},
   "source": [
    "Now we can start to engineer our features.\n",
    "I first focused on the time of search and the time flight itinerary.\n",
    "I got 11 features out of it:\n",
    "- day of the week of the search\n",
    "- day of the year of the search\n",
    "- day of the week of the departure for the trip\n",
    "- day of the year of the departure for the trip\n",
    "- day of the week of the return from the trip (if applicable)\n",
    "- day of the year of the return from the trip (if applicable)\n",
    "- difference in days between date of search and date of departure\n",
    "- difference in days between date of search and date of return   \n",
    "- if the trip is returning or not\n",
    "- number of flights for the departure itinerary\n",
    "- number of flights for the return itinerary\n",
    "Since there is no timezone for the search datetime (only a country looking at the pos column), I didn't calculated the features with UTC offsets at all (even if I could have computed the UTC offset for the departure or return datetimes with the airport data)."
   ]
  },
  {
   "cell_type": "code",
   "execution_count": null,
   "metadata": {
    "collapsed": true
   },
   "outputs": [],
   "source": [
    "def diffDays(df):\n",
    "    return (df['departure_date'].date()-df['search_date'].date()).days\n",
    "\n",
    "df = df_principal_currency\n",
    "df['search_date']=df['search_time'].apply(lambda x:date.datetime.strptime(x,\"%Y-%m-%d %H:%M:%S\"))\n",
    "df['departure_time'] = df['departure_datetime_1'].apply(lambda x:x.split(\";\")[0])\n",
    "df['departure_date']=df['departure_time'].apply(lambda x:date.datetime.strptime(x[:19],\"%Y-%m-%dT%H:%M:%S\"))\n",
    "df['days_to_departure']=df.apply(diffDays,axis=1)\n",
    "df['search_day_of_year']=df['search_date'].apply(lambda x:x.timetuple().tm_yday)\n",
    "df['search_day_of_week']=df['search_date'].apply(lambda x:x.timetuple().tm_wday)\n",
    "df['departure_day_of_week']=df['departure_date'].apply(lambda x:x.timetuple().tm_wday)\n",
    "df['departure_day_of_year']=df['departure_date'].apply(lambda x:x.timetuple().tm_yday)\n",
    "df['departure_day_of_week']=df['departure_date'].apply(lambda x:x.timetuple().tm_wday)\n",
    "\n",
    "def splitPossibleNull(x):\n",
    "    if x and str(x)!='nan': \n",
    "        return x.split(\";\")[0]\n",
    "    else:\n",
    "        return \"2001-01-01T00:00:00\"\n",
    "def diffDaysReturn(df):\n",
    "    if int(df['return_date'].year) >= int(df['search_date'].year):\n",
    "        return (df['return_date'].date()-df['search_date'].date()).days\n",
    "    else:\n",
    "        #print(df['return_date'].year)\n",
    "        return 0\n",
    "\n",
    "df['return_time'] = df['arrival_datetime_1'].apply(splitPossibleNull)\n",
    "df['return_date']=df['return_time'].apply(lambda x:date.datetime.strptime(x[:19],\"%Y-%m-%dT%H:%M:%S\"))\n",
    "df['days_to_return']=df.apply(diffDaysReturn,axis=1)\n",
    "df['return_day_of_year']=df['return_date'].apply(lambda x:x.timetuple().tm_yday)\n",
    "df['return_day_of_week']=df['return_date'].apply(lambda x:x.timetuple().tm_wday)\n",
    "df['has_return']=df['arrival_datetime_1'].apply(lambda x: float(str(x)!='nan'))\n",
    "\n",
    "def numFlightsReturn(x):\n",
    "    if x and str(x)!='nan': \n",
    "        return len(x.split(\";\"))\n",
    "    else:\n",
    "        return 0\n",
    "    \n",
    "df['nb_flights_departure']=df['flight_num_1'].apply(lambda x: len(x.split(';')))\n",
    "df['nb_flights_return']=df['flight_num_2'].apply(numFlightsReturn)\n",
    "\n",
    "\n"
   ]
  },
  {
   "cell_type": "markdown",
   "metadata": {},
   "source": [
    "Next I tried to compute the distance between the first airport of the itinerary and the last one. But when I looked at the airport data, there were a lot of airports for which there was no latitude or longitude or altitude. I tried to get an external dataset but in the one I found not all the airports were mentioned so I gave up on this idea and only processed a distance code represented by the concatenation of the iata code of the first airport of the itinerary and the iata code of the last one."
   ]
  },
  {
   "cell_type": "code",
   "execution_count": null,
   "metadata": {
    "collapsed": true
   },
   "outputs": [],
   "source": [
    "def joinCoord(df_airport):\n",
    "    return \";\".join((str(df_airport['lat']),str(df_airport['lon']),str(df_airport['alt'])))\n",
    "\n",
    "def codeDistance(df):\n",
    "    airports = sorted([df['origin'],df['destination']], key=str.lower)\n",
    "    return ''.join(airports)\n",
    "\n",
    "df_airport = pd.read_csv('airports.csv',header=None, index_col=None)\n",
    "df_airport = df_airport[[4,6,7,8]]\n",
    "df_airport.columns = ['iata_code','lat','lon','alt']\n",
    "df_airport['coord']= df_airport.apply(joinCoord,axis=1)\n",
    "df_airport.set_index('iata_code', drop=True, inplace=True)\n",
    "df_airport = df_airport[['coord']]\n",
    "dictionary = df_airport.to_dict(orient=\"index\")\n",
    "#df['coord_origin']=df['origin'].apply(lambda x:dictionary[x])\n",
    "#df['coord_destination']=df['destination'].apply(lambda x:dictionary[x])\n",
    "\n",
    "df['distance_code'] = df.apply(codeDistance,axis=1)\n",
    "print(df['distance_code'][:10])"
   ]
  },
  {
   "cell_type": "markdown",
   "metadata": {},
   "source": [
    "Now we can gather all the features that will be used for the regression model ie the features previously engineered and also:\n",
    "- the partner_id\n",
    "- the number of passengers\n",
    "- the number of requests\n",
    "- the supplier\n",
    "- the cabin class\n",
    "- the airfare in euro (will serve as target values for the model)\n",
    "The resulting dataframe is saved in a csv file."
   ]
  },
  {
   "cell_type": "code",
   "execution_count": null,
   "metadata": {
    "collapsed": true
   },
   "outputs": [],
   "source": [
    "df_feature = df[['search_id','partner_id','passengers','num_requests','fare_eur','supplier','cabin_class',\n",
    "                 'days_to_departure','search_day_of_year','search_day_of_week','departure_day_of_year','departure_day_of_week',\n",
    "                 'days_to_return','return_day_of_year','return_day_of_week','has_return','nb_flights_departure','nb_flights_return',\n",
    "                 'distance_code']]\n",
    "\n",
    "df_feature.to_csv('features_regression.csv')"
   ]
  }
 ],
 "metadata": {
  "kernelspec": {
   "display_name": "Python 3",
   "language": "python",
   "name": "python3"
  },
  "language_info": {
   "codemirror_mode": {
    "name": "ipython",
    "version": 3
   },
   "file_extension": ".py",
   "mimetype": "text/x-python",
   "name": "python",
   "nbconvert_exporter": "python",
   "pygments_lexer": "ipython3",
   "version": "3.6.1"
  }
 },
 "nbformat": 4,
 "nbformat_minor": 2
}
