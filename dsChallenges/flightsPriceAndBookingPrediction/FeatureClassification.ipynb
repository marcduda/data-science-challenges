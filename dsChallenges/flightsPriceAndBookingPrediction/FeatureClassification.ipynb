{
 "cells": [
  {
   "cell_type": "markdown",
   "metadata": {},
   "source": [
    "For this problem, we want to see if a search is booked or not so in other words we want to see what triggers a user to book a search and not another that the user did. Therefore from the search data, we only keep the searches for users that are in the booking data. We label the searches in the search data with 0 and the ones in the booking data with 1.\n",
    "In 48h, I didn't focused specifically on finding new features than the ones I had for the first problem therefore the feature extraction step is actually the same as the feature extraction step for the regression problem, only the input data is different. "
   ]
  },
  {
   "cell_type": "code",
   "execution_count": null,
   "metadata": {
    "collapsed": true
   },
   "outputs": [],
   "source": [
    "import pandas as pd\n",
    "import numpy as np\n",
    "import datetime as date\n",
    "from pytz import timezone\n",
    "import re\n",
    "import warnings\n",
    "warnings.filterwarnings('ignore')\n",
    "\n",
    "\n",
    "df_search = pd.read_csv('search_data.csv')\n",
    "df_booking = pd.read_csv('booking_data.csv')\n",
    "df_search = df_search.drop_duplicates()\n",
    "df_booking = df_booking.drop_duplicates()\n",
    "df_booking =df_booking.rename(columns = {'arrial_datetime_2':'arrival_datetime_2'})\n",
    "df_search=df_search.rename(columns = {'search_id':'booking_id','search_user_id':'booking_user_id','search_time':'booking_time'})\n",
    "df_booking['booked']=1.0\n",
    "df_search['booked']=0.0\n",
    "\n",
    "df_booking=df_booking.set_index('booking_user_id')\n",
    "df_search=df_search.set_index('booking_user_id')\n",
    "df_all=pd.concat([df_booking,df_search],join='inner',ignore_index=True)"
   ]
  },
  {
   "cell_type": "markdown",
   "metadata": {},
   "source": [
    "First we clear out some inconsistencies in the data such as a search with 0 passengers but an airfare. \n",
    "We also regroup the category of cabin_class into more coherent classes and we transform all the airfares into the same currency.\n",
    "I only managed to find a simple external dataset of principal (ie only 33) currencies exchange rate to euro so I left out the rows with a currency that was not in this external dataset."
   ]
  },
  {
   "cell_type": "code",
   "execution_count": null,
   "metadata": {
    "collapsed": true
   },
   "outputs": [],
   "source": [
    "df_all = df_all[df_all.passengers != 0]\n",
    "df_all['cabin_class'] = df_all['cabin_class'].map({'economy':'economy', 'Economy':'economy', 'Business':'business', 'mixed':'mixed', 'First':'first', 'business':'business',\n",
    " 'premium_economy':'premium_economy', 'first':'first', 'Premium Economy':'premium_economy', 'First Class':'first', 'COACH':'economy',\n",
    " 'premiumEconomy':'premium_economy', 'ECONOMY':'economy'})\n",
    "df_exrate = pd.read_csv('eurofxref.csv')\n",
    "df_exrate.columns = [name.strip() for name in df_exrate.columns]\n",
    "df_exrate.drop('',1)\n",
    "df_all = df_all[df_all.currency.isin(list(df_exrate.columns))]\n",
    "sLength = len(df_principal_currency['currency'])\n",
    "\n",
    "df_all['exchange']=df_all.apply(lambda df: df_exrate[df.currency][0], axis=1)\n",
    "df_all['fare_eur']=df_all.fare/df_all.exchange"
   ]
  },
  {
   "cell_type": "markdown",
   "metadata": {},
   "source": [
    "Now we can start to engineer our features.\n",
    "I first focused on the time of search and the time flight itinerary.\n",
    "I got 11 features out of it:\n",
    "- day of the week of the search\n",
    "- day of the year of the search\n",
    "- day of the week of the departure for the trip\n",
    "- day of the year of the departure for the trip\n",
    "- day of the week of the return from the trip (if applicable)\n",
    "- day of the year of the return from the trip (if applicable)\n",
    "- difference in days between date of search and date of departure\n",
    "- difference in days between date of search and date of return   \n",
    "- if the trip is returning or not\n",
    "- number of flights for the departure itinerary\n",
    "- number of flights for the return itinerary\n",
    "Since there is no timezone for the search datetime (only a country looking at the pos column), I didn't calculated the features with UTC offsets at all (even if I could have computed the UTC offset for the departure or return datetimes with the airport data)."
   ]
  },
  {
   "cell_type": "code",
   "execution_count": null,
   "metadata": {
    "collapsed": true
   },
   "outputs": [],
   "source": [
    "def diffDays(df):\n",
    "    return (df['departure_date'].date()-df['search_date'].date()).days\n",
    "\n",
    "df = df_all\n",
    "df['search_date']=df['booking_time'].apply(lambda x:date.datetime.strptime(x,\"%Y-%m-%d %H:%M:%S\"))\n",
    "df['departure_time'] = df['departure_datetime_1'].apply(lambda x:x.split(\";\")[0])\n",
    "df['departure_date']=df['departure_time'].apply(lambda x:date.datetime.strptime(x[:19],\"%Y-%m-%dT%H:%M:%S\"))\n",
    "df['days_to_departure']=df.apply(diffDays,axis=1)\n",
    "df['search_day_of_year']=df['search_date'].apply(lambda x:x.timetuple().tm_yday)\n",
    "df['search_day_of_week']=df['search_date'].apply(lambda x:x.timetuple().tm_wday)\n",
    "df['departure_day_of_week']=df['departure_date'].apply(lambda x:x.timetuple().tm_wday)\n",
    "df['departure_day_of_year']=df['departure_date'].apply(lambda x:x.timetuple().tm_yday)\n",
    "df['departure_day_of_week']=df['departure_date'].apply(lambda x:x.timetuple().tm_wday)\n",
    "\n",
    "def splitPossibleNull(x):\n",
    "    if x and str(x)!='nan': \n",
    "        return x.split(\";\")[0]\n",
    "    else:\n",
    "        return \"2001-01-01T00:00:00\"\n",
    "def diffDaysReturn(df):\n",
    "    if int(df['return_date'].year) >= int(df['search_date'].year):\n",
    "        return (df['return_date'].date()-df['search_date'].date()).days\n",
    "    else:\n",
    "        #print(df['return_date'].year)\n",
    "        return 0\n",
    "\n",
    "df['return_time'] = df['arrival_datetime_1'].apply(splitPossibleNull)\n",
    "df['return_date']=df['return_time'].apply(lambda x:date.datetime.strptime(x[:19],\"%Y-%m-%dT%H:%M:%S\"))\n",
    "df['days_to_return']=df.apply(diffDaysReturn,axis=1)\n",
    "df['return_day_of_year']=df['return_date'].apply(lambda x:x.timetuple().tm_yday)\n",
    "df['return_day_of_week']=df['return_date'].apply(lambda x:x.timetuple().tm_wday)\n",
    "\n",
    "df['has_return']=df['arrival_datetime_1'].apply(lambda x: float(str(x)!='nan'))\n",
    "\n",
    "def numFlightsReturn(x):\n",
    "    if x and str(x)!='nan': \n",
    "        return len(x.split(\";\"))\n",
    "    else:\n",
    "        return 0\n",
    "    \n",
    "df['nb_flights_departure']=df['flight_num_1'].apply(lambda x: len(x.split(';')))\n",
    "df['nb_flights_return']=df['flight_num_2'].apply(numFlightsReturn)"
   ]
  },
  {
   "cell_type": "markdown",
   "metadata": {},
   "source": [
    "Now we can gather all the features that will be used for the regression model ie the features previously engineered and also:\n",
    "- the partner id\n",
    "- the number of passengers\n",
    "- the number of requests\n",
    "- the supplier\n",
    "- the cabin class\n",
    "- the airfare in euro \n",
    "- the airfare in euro\n",
    "- the binary booked (1) or not (0)\n",
    "The resulting dataframe is saved in a csv file."
   ]
  },
  {
   "cell_type": "code",
   "execution_count": null,
   "metadata": {
    "collapsed": true
   },
   "outputs": [],
   "source": [
    "df_feature = df[['booking_id','partner_id','passengers','num_requests','fare_eur','supplier','cabin_class',\n",
    "                 'days_to_departure','search_day_of_year','search_day_of_week','departure_day_of_year','departure_day_of_week',\n",
    "                 'days_to_return','return_day_of_year','return_day_of_week','has_return','nb_flights_departure','nb_flights_return',\n",
    "                 'booked']]\n",
    "\n",
    "df_feature.to_csv('features_classification.csv')"
   ]
  }
 ],
 "metadata": {
  "kernelspec": {
   "display_name": "Python 3",
   "language": "python",
   "name": "python3"
  },
  "language_info": {
   "codemirror_mode": {
    "name": "ipython",
    "version": 3
   },
   "file_extension": ".py",
   "mimetype": "text/x-python",
   "name": "python",
   "nbconvert_exporter": "python",
   "pygments_lexer": "ipython3",
   "version": "3.6.1"
  }
 },
 "nbformat": 4,
 "nbformat_minor": 2
}
