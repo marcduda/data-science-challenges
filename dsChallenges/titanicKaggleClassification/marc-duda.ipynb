{
 "cells": [
  {
   "cell_type": "markdown",
   "metadata": {},
   "source": [
    "On cherche à étudier la probabilité de survie des passagers du Titanic en fonction des informations que l'on a trouvé sur eux.\n",
    "Dans un premier temps, on peut regarder quels sont les types d'informations que l'on a, est ce que les données sont de bonne qualité et les améliorer si nécessaire.\n",
    "Dans un second temps, on peut alors extraire des descripteurs de ces données.\n",
    "Enfin, on peut construire un modèle de régression qui se base sur les descripteurs et ainsi prédire les probabilités de survie.\n",
    "\n",
    "On dispose de deux fichiers : train.csv et test.csv. On peut regrouper les deux fichiers en un seul pour étudier les données car ainsi on pourra mieux nettoyer le fichier test en prenant en compte les informations du fichier train :\n"
   ]
  },
  {
   "cell_type": "code",
   "execution_count": 69,
   "metadata": {},
   "outputs": [
    {
     "data": {
      "text/plain": [
       "Age            1046\n",
       "Cabin           295\n",
       "Embarked       1307\n",
       "Fare           1308\n",
       "Name           1309\n",
       "Parch          1309\n",
       "PassengerId    1309\n",
       "Pclass         1309\n",
       "Sex            1309\n",
       "SibSp          1309\n",
       "Survived        891\n",
       "Ticket         1309\n",
       "dtype: int64"
      ]
     },
     "execution_count": 69,
     "metadata": {},
     "output_type": "execute_result"
    }
   ],
   "source": [
    "import pandas as pd\n",
    "import numpy as np\n",
    "import re\n",
    "from sklearn.ensemble import RandomForestRegressor\n",
    "from sklearn import metrics\n",
    "import matplotlib.pyplot as plt\n",
    "from sklearn import preprocessing\n",
    "from sklearn.model_selection import cross_val_predict\n",
    "from sklearn.model_selection import GridSearchCV\n",
    "from sklearn.model_selection import train_test_split\n",
    "train_ = pd.read_csv('train.csv')\n",
    "test_= pd.read_csv('test.csv')\n",
    "test_['Survived'] = np.nan\n",
    "\n",
    "data = pd.concat([train_,test_], axis=0)\n",
    "data.head(3)\n",
    "data.count()"
   ]
  },
  {
   "cell_type": "markdown",
   "metadata": {},
   "source": [
    "On peut auditer la qualité des données en 5 temps:\n",
    "-validité : est ce que les données sont bien formattées ?\n",
    "-exactitude : est ce que les données ont les bonnes valeurs ?\n",
    "-consistence : est ce que les données sont cohérentes entre elles ?\n",
    "-uniformité : est ce que les mêmes unités sont utilisées ?\n",
    "-complétude : est ce que les données sont complètes ? \n"
   ]
  },
  {
   "cell_type": "code",
   "execution_count": 70,
   "metadata": {},
   "outputs": [
    {
     "name": "stdout",
     "output_type": "stream",
     "text": [
      "Unique elements of the Sex column:\n",
      "['male' 'female']\n",
      "Unique elements of the Embarked column:\n",
      "['S' 'C' 'Q' nan]\n",
      "Unique elements of the SibSp column:\n",
      "[1 0 3 4 2 5 8]\n",
      "Unique elements of the Parch column:\n",
      "[0 1 2 5 3 4 6 9]\n",
      "Unique elements of the Pclass column:\n",
      "[3 1 2]\n",
      "Unique elements of the Cabin column:\n",
      "[nan 'C85' 'C123' 'E46' 'G6' 'C103' 'D56' 'A6' 'C23 C25 C27' 'B78' 'D33'\n",
      " 'B30' 'C52' 'B28' 'C83' 'F33' 'F G73' 'E31' 'A5' 'D10 D12' 'D26' 'C110'\n",
      " 'B58 B60' 'E101' 'F E69' 'D47' 'B86' 'F2' 'C2' 'E33' 'B19' 'A7' 'C49' 'F4'\n",
      " 'A32' 'B4' 'B80' 'A31' 'D36' 'D15' 'C93' 'C78' 'D35' 'C87' 'B77' 'E67'\n",
      " 'B94' 'C125' 'C99' 'C118' 'D7' 'A19' 'B49' 'D' 'C22 C26' 'C106' 'C65'\n",
      " 'E36' 'C54' 'B57 B59 B63 B66' 'C7' 'E34' 'C32' 'B18' 'C124' 'C91' 'E40'\n",
      " 'T' 'C128' 'D37' 'B35' 'E50' 'C82' 'B96 B98' 'E10' 'E44' 'A34' 'C104'\n",
      " 'C111' 'C92' 'E38' 'D21' 'E12' 'E63' 'A14' 'B37' 'C30' 'D20' 'B79' 'E25'\n",
      " 'D46' 'B73' 'C95' 'B38' 'B39' 'B22' 'C86' 'C70' 'A16' 'C101' 'C68' 'A10'\n",
      " 'E68' 'B41' 'A20' 'D19' 'D50' 'D9' 'A23' 'B50' 'A26' 'D48' 'E58' 'C126'\n",
      " 'B71' 'B51 B53 B55' 'D49' 'B5' 'B20' 'F G63' 'C62 C64' 'E24' 'C90' 'C45'\n",
      " 'E8' 'B101' 'D45' 'C46' 'D30' 'E121' 'D11' 'E77' 'F38' 'B3' 'D6' 'B82 B84'\n",
      " 'D17' 'A36' 'B102' 'B69' 'E49' 'C47' 'D28' 'E17' 'A24' 'C50' 'B42' 'C148'\n",
      " 'B45' 'B36' 'A21' 'D34' 'A9' 'C31' 'B61' 'C53' 'D43' 'C130' 'C132'\n",
      " 'C55 C57' 'C116' 'F' 'A29' 'C6' 'C28' 'C51' 'C97' 'D22' 'B10' 'E45' 'E52'\n",
      " 'A11' 'B11' 'C80' 'C89' 'F E46' 'B26' 'F E57' 'A18' 'E60' 'E39 E41'\n",
      " 'B52 B54 B56' 'C39' 'B24' 'D40' 'D38' 'C105']\n",
      "Unique elements of the Fare column:\n",
      "[   7.25     71.2833    7.925    53.1       8.05      8.4583   51.8625\n",
      "   21.075    11.1333   30.0708   16.7      26.55     31.275     7.8542\n",
      "   16.       29.125    13.       18.        7.225    26.        8.0292\n",
      "   35.5      31.3875  263.        7.8792    7.8958   27.7208  146.5208\n",
      "    7.75     10.5      82.1708   52.        7.2292   11.2417    9.475    21.\n",
      "   41.5792   15.5      21.6792   17.8      39.6875    7.8      76.7292\n",
      "   61.9792   27.75     46.9      80.       83.475    27.9      15.2458\n",
      "    8.1583    8.6625   73.5      14.4542   56.4958    7.65     29.       12.475\n",
      "    9.        9.5       7.7875   47.1      15.85     34.375    61.175\n",
      "   20.575    34.6542   63.3583   23.       77.2875    8.6542    7.775\n",
      "   24.15      9.825    14.4583  247.5208    7.1417   22.3583    6.975\n",
      "    7.05     14.5      15.0458   26.2833    9.2167   79.2       6.75     11.5\n",
      "   36.75      7.7958   12.525    66.6       7.3125   61.3792    7.7333\n",
      "   69.55     16.1      15.75     20.525    55.       25.925    33.5\n",
      "   30.6958   25.4667   28.7125    0.       15.05     39.       22.025    50.\n",
      "    8.4042    6.4958   10.4625   18.7875   31.      113.275    27.\n",
      "   76.2917   90.        9.35     13.5       7.55     26.25     12.275\n",
      "    7.125    52.5542   20.2125   86.5     512.3292   79.65    153.4625\n",
      "  135.6333   19.5      29.7      77.9583   20.25     78.85     91.0792\n",
      "   12.875     8.85    151.55     30.5      23.25     12.35    110.8833\n",
      "  108.9      24.       56.9292   83.1583  262.375    14.      164.8667\n",
      "  134.5       6.2375   57.9792   28.5     133.65     15.9       9.225    35.\n",
      "   75.25     69.3      55.4417  211.5       4.0125  227.525    15.7417\n",
      "    7.7292   12.      120.       12.65     18.75      6.8583   32.5\n",
      "    7.875    14.4      55.9       8.1125   81.8583   19.2583   19.9667\n",
      "   89.1042   38.5       7.725    13.7917    9.8375    7.0458    7.5208\n",
      "   12.2875    9.5875   49.5042   78.2667   15.1       7.6292   22.525\n",
      "   26.2875   59.4       7.4958   34.0208   93.5     221.7792  106.425\n",
      "   49.5      71.       13.8625    7.8292   39.6      17.4      51.4792\n",
      "   26.3875   30.       40.125     8.7125   15.       33.       42.4      15.55\n",
      "   65.       32.3208    7.0542    8.4333   25.5875    9.8417    8.1375\n",
      "   10.1708  211.3375   57.       13.4167    7.7417    9.4833    7.7375\n",
      "    8.3625   23.45     25.9292    8.6833    8.5167    7.8875   37.0042\n",
      "    6.45      6.95      8.3       6.4375   39.4      14.1083   13.8583\n",
      "   50.4958    5.        9.8458   10.5167    7.        9.6875   82.2667\n",
      "    3.1708   31.6833   31.5      57.75      7.85     60.       15.0333\n",
      "   15.5792   28.5375   25.7      10.7083   13.9       7.8208    7.7792\n",
      "   31.6792    7.2833   75.2417       nan   12.1833   13.775     8.9625\n",
      "   25.7417   42.5      27.4458  136.7792    9.325    12.7375   45.5\n",
      "    7.575     7.5792    7.7208]\n",
      "1309\n",
      "Unique elements of the Age column:\n",
      "[ 22.    38.    26.    35.      nan  54.     2.    27.    14.     4.    58.\n",
      "  20.    39.    55.    31.    34.    15.    28.     8.    19.    40.    66.\n",
      "  42.    21.    18.     3.     7.    49.    29.    65.    28.5    5.    11.\n",
      "  45.    17.    32.    16.    25.     0.83  30.    33.    23.    24.    46.\n",
      "  59.    71.    37.    47.    14.5   70.5   32.5   12.     9.    36.5   51.\n",
      "  55.5   40.5   44.     1.    61.    56.    50.    36.    45.5   20.5   62.\n",
      "  41.    52.    63.    23.5    0.92  43.    60.    10.    64.    13.    48.\n",
      "   0.75  53.    57.    80.    70.    24.5    6.     0.67  30.5    0.42\n",
      "  34.5   74.    22.5   18.5   67.    76.    26.5   60.5   11.5    0.33\n",
      "   0.17  38.5 ]\n",
      "Unique elements of the Survived column:\n",
      "[  0.   1.  nan]\n",
      "10 values of the Name column:\n",
      "20                                         Fynney, Mr. Joseph J\n",
      "21                                        Beesley, Mr. Lawrence\n",
      "22                                  McGowan, Miss. Anna \"Annie\"\n",
      "23                                 Sloper, Mr. William Thompson\n",
      "24                                Palsson, Miss. Torborg Danira\n",
      "25    Asplund, Mrs. Carl Oscar (Selma Augusta Emilia Johansson)\n",
      "26                                      Emir, Mr. Farred Chehab\n",
      "27                               Fortune, Mr. Charles Alexander\n",
      "28                                O'Dwyer, Miss. Ellen \"Nellie\"\n",
      "29                                          Todoroff, Mr. Lalio\n",
      "Name: Name, dtype: object\n",
      "First 10 values of the Ticket column:\n",
      "0           A/5 21171\n",
      "1            PC 17599\n",
      "2    STON/O2. 3101282\n",
      "3              113803\n",
      "4              373450\n",
      "5              330877\n",
      "6               17463\n",
      "7              349909\n",
      "8              347742\n",
      "9              237736\n",
      "Name: Ticket, dtype: object\n"
     ]
    }
   ],
   "source": [
    "#Validity\n",
    "print('Unique elements of the Sex column:')\n",
    "print(data['Sex'].unique())\n",
    "print('Unique elements of the Embarked column:')\n",
    "print(data['Embarked'].unique())\n",
    "print('Unique elements of the SibSp column:')\n",
    "print(data['SibSp'].unique())\n",
    "print('Unique elements of the Parch column:')\n",
    "print(data['Parch'].unique())\n",
    "print('Unique elements of the Pclass column:')\n",
    "print(data['Pclass'].unique())\n",
    "print('Unique elements of the Cabin column:')\n",
    "print(data['Cabin'].unique())\n",
    "print('Unique elements of the Fare column:')\n",
    "print(data['Fare'].unique())\n",
    "print(len(data['PassengerId'].unique()))\n",
    "print('Unique elements of the Age column:')\n",
    "print(data['Age'].unique())\n",
    "print('Unique elements of the Survived column:')\n",
    "print(data['Survived'].unique())\n",
    "pd.options.display.max_colwidth = 100\n",
    "print('10 values of the Name column:')\n",
    "print(data['Name'][20:30])\n",
    "print('First 10 values of the Ticket column:')\n",
    "print(data['Ticket'][:10])"
   ]
  },
  {
   "cell_type": "markdown",
   "metadata": {},
   "source": [
    "On voit avec la fonction unique() qui retourne toutes les valeurs différentes d'une variable, que la colonne Sex a de bonnes valeurs,on a soit male soit female. \n",
    "La colonne Embarked est aussi valide (à part les valeurs manquantes on a soit C soit S soit Q).\n",
    "Les colonnes SibSp, Parch, Pclass, Fare et Age, Survived contiennent toutes des entiers ou des réels (sans tenir compte des données manquantes).\n",
    "Pour les valeurs présentes dans la colonne Cabin, on voit par contre que certaines sont de la forme lettre chiffre (C85) alors que pour d'autres correspondent à une liste de combinaisons lettre chiffre ou simplement lettre.\n",
    "Compte tenue du faible nombre de valeurs non nulles pour cette colonne, on n'en tient pas compte pour le moment.\n",
    "La colonne PassengerId fournit bien un identifiant unique au passager.\n",
    "Certaines valeurs de la colonne Ticket sont des chiffres alors que d'autres ont des lettres devant ce chiffre. Comme le sens des lettres n'est pas évident, on peut tout formater en ne gardant que le chiffre.\n",
    "Les noms semblent suivre le format : \"nom-de-famille,prénom(s)\" ou \"nom-de-famille,prénom(s)(prénom-alternatif nom alternatif)\" si la personne s'est marié et a donc changé son nom de jeune fille ou si on a retrouvé un homme sous deux identités différentes. On a cependant quelques exceptions dans ce format avec des guillements et parfois des surnoms entre guillemets (\"nellie\" pour ellen ou \"annie\" pour anna).\n",
    "\n",
    "On fait les changements de la manière suivante :"
   ]
  },
  {
   "cell_type": "code",
   "execution_count": 71,
   "metadata": {},
   "outputs": [
    {
     "name": "stdout",
     "output_type": "stream",
     "text": [
      "10 values of the Name column:\n",
      "20                                         Fynney, Mr. Joseph J\n",
      "21                                        Beesley, Mr. Lawrence\n",
      "22                                         McGowan, Miss. Anna \n",
      "23                                 Sloper, Mr. William Thompson\n",
      "24                                Palsson, Miss. Torborg Danira\n",
      "25    Asplund, Mrs. Carl Oscar (Selma Augusta Emilia Johansson)\n",
      "26                                      Emir, Mr. Farred Chehab\n",
      "27                               Fortune, Mr. Charles Alexander\n",
      "28                                        O'Dwyer, Miss. Ellen \n",
      "29                                          Todoroff, Mr. Lalio\n",
      "Name: Name, dtype: object\n",
      "First 10 values of the Ticket column:\n",
      "0      21171\n",
      "1      17599\n",
      "2    3101282\n",
      "3     113803\n",
      "4     373450\n",
      "5     330877\n",
      "6      17463\n",
      "7     349909\n",
      "8     347742\n",
      "9     237736\n",
      "Name: TicketNumber, dtype: object\n"
     ]
    }
   ],
   "source": [
    "data['TicketNumber'] = data['Ticket'].apply(lambda x : x.split(' ')[-1])\n",
    "def removeQuotes(string):\n",
    "    if '\"' in string:\n",
    "        if len(string.split('\"')[1]) >1:\n",
    "            if '(' in string or ')' in string or len(string.split('\"')[1].split(' '))>1:\n",
    "                return string.replace('\\\"','')\n",
    "            else:\n",
    "                return ''.join([string.split('\"')[0],string.split('\"')[2]])\n",
    "            \n",
    "        else:\n",
    "            return string.replace(\"\\\"\",\"\")\n",
    "    else:\n",
    "        return string\n",
    "data['Name']=data['Name'].apply(lambda x: removeQuotes(x.replace('/','-')))\n",
    "print('10 values of the Name column:')\n",
    "print(data['Name'][20:30])\n",
    "print('First 10 values of the Ticket column:')\n",
    "print(data['TicketNumber'][:10])"
   ]
  },
  {
   "cell_type": "markdown",
   "metadata": {},
   "source": [
    "Après cela, on obtient un tableau de données où toutes les valeurs non manquantes d'une colonne ont la même structure.\n",
    "Comme sur ces données-ci on ne peut pas vérifier l'exactitude des valeurs face à des données de référence, on passe directement à la prochaine étape qui consiste à voir si les données sont cohérentes entre elle, c'est à dire de voir s'il y a des valeurs dans des colonnes différentes qui se contredisent.\n",
    "On peut par exemple regarder si le sexe de la personne est cohérent avec le titre qui lui est donné.\n",
    "S'il y a une femme dont le titre indique qu'elle n'est pas marié mais qu'elle a changé de nom (qu'elle a un nom entre parenthèse).\n",
    "Si les prix sont cohérents en moyenne avec les classes."
   ]
  },
  {
   "cell_type": "code",
   "execution_count": 72,
   "metadata": {},
   "outputs": [
    {
     "name": "stdout",
     "output_type": "stream",
     "text": [
      "Andersson    11\n",
      "Sage         11\n",
      "Goodwin       8\n",
      "Asplund       8\n",
      "Davies        7\n",
      "Ford          6\n",
      "Brown         6\n",
      "Skoog         6\n",
      "Smith         6\n",
      "Carter        6\n",
      "Name: Surname, dtype: int64\n",
      "Empty DataFrame\n",
      "Columns: [Pclass, Name, ChangedName, Title]\n",
      "Index: []\n",
      "87.5089916408668\n",
      "21.1791963898917\n",
      "13.302888700564969\n",
      "60.0\n",
      "15.0458\n",
      "8.05\n"
     ]
    }
   ],
   "source": [
    "def verifySex(df):\n",
    "    if (df['Name'].split(\",\")[1].split(\".\")[0].strip() in ['Don','Sir','Jonkheer','Rev','Major','Col','Capt','Mr','Master']) and (df['Sex']=='male'):\n",
    "        return True\n",
    "    elif (df['Name'].split(\",\")[1].split(\".\")[0].strip() in ['Dona','Lady','the Countess','Mrs','Miss','Mme','Ms','Mlle']) and (df['Sex']=='female'):\n",
    "        return True\n",
    "    else:\n",
    "        return False\n",
    "data['ConsistentSex'] = data.apply(lambda df: int(verifySex(df)),axis=1)\n",
    "data['Surname'] = data['Name'].apply(lambda x: x.split(\",\")[0].strip())\n",
    "print(data['Surname'].value_counts()[:10])\n",
    "SurnamesCount = data['Surname'].value_counts()\n",
    "data['SurnameCount']=data['Surname'].apply(lambda x:SurnamesCount[x])\n",
    "\n",
    "def getTitle(string):\n",
    "    title = string.split(\",\")[1].split(\".\")[0]\n",
    "    if title in ['Don','Lady','Sir','the Countess','Jonkheer','Dona']:\n",
    "        return 'Noble'\n",
    "    elif title in ['Major','Col','Capt']:\n",
    "        return 'Military'\n",
    "    elif title in ['Miss','Mlle','Ms']:\n",
    "        return 'Miss'\n",
    "    elif title in ['Mme','Mrs']:\n",
    "        return 'Mrs'\n",
    "    else:\n",
    "        return title\n",
    "data['Title'] = data['Name'].apply(lambda x: getTitle(x))\n",
    "def changedName(df):\n",
    "    if  ('(' in df['Name']):\n",
    "        return True\n",
    "    else:\n",
    "        return False\n",
    "data['ChangedName']= data.apply(lambda x: int(changedName(x)),axis=1)\n",
    "print(data[['Pclass','Name','ChangedName','Title']].loc[(data['ChangedName']==1) & (data['Title']=='Miss')])\n",
    "print(data['Fare'].loc[data['Pclass']==1].mean())\n",
    "print(data['Fare'].loc[data['Pclass']==2].mean())\n",
    "print(data['Fare'].loc[data['Pclass']==3].mean())\n",
    "print(data['Fare'].loc[data['Pclass']==1].median())\n",
    "print(data['Fare'].loc[data['Pclass']==2].median())\n",
    "print(data['Fare'].loc[data['Pclass']==3].median())\n",
    "#print(data[['Surname','NbMembers','SurnameCount']].loc[data['NbMembers']>data['SurnameCount']])\n",
    "#print(data.loc[(data['Surname']=='Richards') | (data['Surname']=='Hocking')])"
   ]
  },
  {
   "cell_type": "markdown",
   "metadata": {},
   "source": [
    "Globalement les données ne semblent pas présenter de contradictions. On peut donc s'interesser à l'uniformité des unités des valeurs et en regardant les résultats précédents quand on applique la fonction unique() aux colonnes, cela semble être le cas, il n'y a pas de valeur aberrante, qui indiquerait une mauvaise unité.\n",
    "On peut maintenant compléter les données manquantes :"
   ]
  },
  {
   "cell_type": "code",
   "execution_count": 73,
   "metadata": {},
   "outputs": [
    {
     "name": "stdout",
     "output_type": "stream",
     "text": [
      "Age              1309\n",
      "Cabin             295\n",
      "Embarked         1309\n",
      "Fare             1309\n",
      "Name             1309\n",
      "Parch            1309\n",
      "PassengerId      1309\n",
      "Pclass           1309\n",
      "Sex              1309\n",
      "SibSp            1309\n",
      "Survived          891\n",
      "Ticket           1309\n",
      "TicketNumber     1309\n",
      "ConsistentSex    1309\n",
      "Surname          1309\n",
      "SurnameCount     1309\n",
      "Title            1309\n",
      "ChangedName      1309\n",
      "dtype: int64\n"
     ]
    }
   ],
   "source": [
    "data.count()\n",
    "data[\"Embarked\"] = data[\"Embarked\"].astype('category')\n",
    "data['Embarked']=data.groupby(['Sex','Pclass','SibSp'])['Embarked'].transform(lambda x: x.fillna(x.mode()[0]))\n",
    "data[\"Fare\"] = data.groupby(['Sex','Pclass','Embarked','SibSp'])['Fare'].transform(lambda x: x.fillna(x.mean()))\n",
    "data['Age'] = data.groupby(['Sex','Pclass','Embarked'])['Age'].transform(lambda x: x.fillna(x.mean()))\n",
    "\n",
    "print(data.count())"
   ]
  },
  {
   "cell_type": "markdown",
   "metadata": {},
   "source": [
    "Maintenant que l'on a amélioré autant que possible la qualité des données à notre disposition, on peut analyser les variables pour déterminer quels sont les descripteurs pertinents qui contribueraient à prédire la probabilité de survie.\n",
    "Les schémas suivants ont été fait avec Tableau :"
   ]
  },
  {
   "cell_type": "code",
   "execution_count": 74,
   "metadata": {},
   "outputs": [
    {
     "data": {
      "text/html": [
       "<div class='tableauPlaceholder' id='viz1508164350110' style='position: relative'><noscript><a href='#'><img alt='Histogram of the count of passenger per sex and survived metric ' src='https:&#47;&#47;public.tableau.com&#47;static&#47;images&#47;ti&#47;titanic_74&#47;Sheet1&#47;1_rss.png' style='border: none' /></a></noscript><object class='tableauViz'  style='display:none;'><param name='host_url' value='https%3A%2F%2Fpublic.tableau.com%2F' /> <param name='embed_code_version' value='2' /> <param name='site_root' value='' /><param name='name' value='titanic_74&#47;Sheet1' /><param name='tabs' value='no' /><param name='toolbar' value='yes' /><param name='static_image' value='https:&#47;&#47;public.tableau.com&#47;static&#47;images&#47;ti&#47;titanic_74&#47;Sheet1&#47;1.png' /> <param name='animate_transition' value='yes' /><param name='display_static_image' value='yes' /><param name='display_spinner' value='yes' /><param name='display_overlay' value='yes' /><param name='display_count' value='yes' /></object></div>                <script type='text/javascript'>                    var divElement = document.getElementById('viz1508164350110');                    var vizElement = divElement.getElementsByTagName('object')[0];                    vizElement.style.width='100%';vizElement.style.height=(divElement.offsetWidth*0.75)+'px';                    var scriptElement = document.createElement('script');                    scriptElement.src = 'https://public.tableau.com/javascripts/api/viz_v1.js';                    vizElement.parentNode.insertBefore(scriptElement, vizElement);                </script>\n",
       "<div class='tableauPlaceholder' id='viz1508164375871' style='position: relative'><noscript><a href='#'><img alt='Histogram of the count of passenger per sex, class and survived metric ' src='https:&#47;&#47;public.tableau.com&#47;static&#47;images&#47;ti&#47;titanic_74&#47;Sheet5&#47;1_rss.png' style='border: none' /></a></noscript><object class='tableauViz'  style='display:none;'><param name='host_url' value='https%3A%2F%2Fpublic.tableau.com%2F' /> <param name='embed_code_version' value='2' /> <param name='site_root' value='' /><param name='name' value='titanic_74&#47;Sheet5' /><param name='tabs' value='no' /><param name='toolbar' value='yes' /><param name='static_image' value='https:&#47;&#47;public.tableau.com&#47;static&#47;images&#47;ti&#47;titanic_74&#47;Sheet5&#47;1.png' /> <param name='animate_transition' value='yes' /><param name='display_static_image' value='yes' /><param name='display_spinner' value='yes' /><param name='display_overlay' value='yes' /><param name='display_count' value='yes' /></object></div>                <script type='text/javascript'>                    var divElement = document.getElementById('viz1508164375871');                    var vizElement = divElement.getElementsByTagName('object')[0];                    vizElement.style.width='100%';vizElement.style.height=(divElement.offsetWidth*0.75)+'px';                    var scriptElement = document.createElement('script');                    scriptElement.src = 'https://public.tableau.com/javascripts/api/viz_v1.js';                    vizElement.parentNode.insertBefore(scriptElement, vizElement);                </script>\n",
       "<div class='tableauPlaceholder' id='viz1508164420828' style='position: relative'><noscript><a href='#'><img alt='Histogram of the count of passenger per sex, embarking port and survived metric ' src='https:&#47;&#47;public.tableau.com&#47;static&#47;images&#47;C7&#47;C7NY687MJ&#47;1_rss.png' style='border: none' /></a></noscript><object class='tableauViz'  style='display:none;'><param name='host_url' value='https%3A%2F%2Fpublic.tableau.com%2F' /> <param name='embed_code_version' value='2' /> <param name='path' value='shared&#47;C7NY687MJ' /> <param name='toolbar' value='yes' /><param name='static_image' value='https:&#47;&#47;public.tableau.com&#47;static&#47;images&#47;C7&#47;C7NY687MJ&#47;1.png' /> <param name='animate_transition' value='yes' /><param name='display_static_image' value='yes' /><param name='display_spinner' value='yes' /><param name='display_overlay' value='yes' /><param name='display_count' value='yes' /></object></div>                <script type='text/javascript'>                    var divElement = document.getElementById('viz1508164420828');                    var vizElement = divElement.getElementsByTagName('object')[0];                    vizElement.style.width='100%';vizElement.style.height=(divElement.offsetWidth*0.75)+'px';                    var scriptElement = document.createElement('script');                    scriptElement.src = 'https://public.tableau.com/javascripts/api/viz_v1.js';                    vizElement.parentNode.insertBefore(scriptElement, vizElement);                </script>\n",
       "<div class='tableauPlaceholder' id='viz1508164603995' style='position: relative'><noscript><a href='#'><img alt='Histogram of the count of passenger per age bin, sex and survived metric ' src='https:&#47;&#47;public.tableau.com&#47;static&#47;images&#47;ti&#47;titanic_74&#47;Sheet11&#47;1_rss.png' style='border: none' /></a></noscript><object class='tableauViz'  style='display:none;'><param name='host_url' value='https%3A%2F%2Fpublic.tableau.com%2F' /> <param name='embed_code_version' value='2' /> <param name='site_root' value='' /><param name='name' value='titanic_74&#47;Sheet11' /><param name='tabs' value='no' /><param name='toolbar' value='yes' /><param name='static_image' value='https:&#47;&#47;public.tableau.com&#47;static&#47;images&#47;ti&#47;titanic_74&#47;Sheet11&#47;1.png' /> <param name='animate_transition' value='yes' /><param name='display_static_image' value='yes' /><param name='display_spinner' value='yes' /><param name='display_overlay' value='yes' /><param name='display_count' value='yes' /></object></div>                <script type='text/javascript'>                    var divElement = document.getElementById('viz1508164603995');                    var vizElement = divElement.getElementsByTagName('object')[0];                    vizElement.style.width='100%';vizElement.style.height=(divElement.offsetWidth*0.75)+'px';                    var scriptElement = document.createElement('script');                    scriptElement.src = 'https://public.tableau.com/javascripts/api/viz_v1.js';                    vizElement.parentNode.insertBefore(scriptElement, vizElement);                </script>\n",
       "<div class='tableauPlaceholder' id='viz1508164984342' style='position: relative'><noscript><a href='#'><img alt='Histogram of the count of passenger per family size and survived metric ' src='https:&#47;&#47;public.tableau.com&#47;static&#47;images&#47;ti&#47;titanic_74&#47;Sheet13&#47;1_rss.png' style='border: none' /></a></noscript><object class='tableauViz'  style='display:none;'><param name='host_url' value='https%3A%2F%2Fpublic.tableau.com%2F' /> <param name='embed_code_version' value='2' /> <param name='site_root' value='' /><param name='name' value='titanic_74&#47;Sheet13' /><param name='tabs' value='no' /><param name='toolbar' value='yes' /><param name='static_image' value='https:&#47;&#47;public.tableau.com&#47;static&#47;images&#47;ti&#47;titanic_74&#47;Sheet13&#47;1.png' /> <param name='animate_transition' value='yes' /><param name='display_static_image' value='yes' /><param name='display_spinner' value='yes' /><param name='display_overlay' value='yes' /><param name='display_count' value='yes' /></object></div>                <script type='text/javascript'>                    var divElement = document.getElementById('viz1508164984342');                    var vizElement = divElement.getElementsByTagName('object')[0];                    vizElement.style.width='100%';vizElement.style.height=(divElement.offsetWidth*0.75)+'px';                    var scriptElement = document.createElement('script');                    scriptElement.src = 'https://public.tableau.com/javascripts/api/viz_v1.js';                    vizElement.parentNode.insertBefore(scriptElement, vizElement);                </script>\n",
       "<div class='tableauPlaceholder' id='viz1508166587856' style='position: relative'><noscript><a href='#'><img alt='Histogram of count of passenger by fare and survived metric ' src='https:&#47;&#47;public.tableau.com&#47;static&#47;images&#47;TJ&#47;TJRPYHSY7&#47;1_rss.png' style='border: none' /></a></noscript><object class='tableauViz'  style='display:none;'><param name='host_url' value='https%3A%2F%2Fpublic.tableau.com%2F' /> <param name='embed_code_version' value='2' /> <param name='path' value='shared&#47;TJRPYHSY7' /> <param name='toolbar' value='yes' /><param name='static_image' value='https:&#47;&#47;public.tableau.com&#47;static&#47;images&#47;TJ&#47;TJRPYHSY7&#47;1.png' /> <param name='animate_transition' value='yes' /><param name='display_static_image' value='yes' /><param name='display_spinner' value='yes' /><param name='display_overlay' value='yes' /><param name='display_count' value='yes' /></object></div>                <script type='text/javascript'>                    var divElement = document.getElementById('viz1508166587856');                    var vizElement = divElement.getElementsByTagName('object')[0];                    vizElement.style.width='100%';vizElement.style.height=(divElement.offsetWidth*0.75)+'px';                    var scriptElement = document.createElement('script');                    scriptElement.src = 'https://public.tableau.com/javascripts/api/viz_v1.js';                    vizElement.parentNode.insertBefore(scriptElement, vizElement);                </script>"
      ],
      "text/plain": [
       "<IPython.core.display.HTML object>"
      ]
     },
     "metadata": {},
     "output_type": "display_data"
    }
   ],
   "source": [
    "%%HTML\n",
    "<div class='tableauPlaceholder' id='viz1508164350110' style='position: relative'><noscript><a href='#'><img alt='Histogram of the count of passenger per sex and survived metric ' src='https:&#47;&#47;public.tableau.com&#47;static&#47;images&#47;ti&#47;titanic_74&#47;Sheet1&#47;1_rss.png' style='border: none' /></a></noscript><object class='tableauViz'  style='display:none;'><param name='host_url' value='https%3A%2F%2Fpublic.tableau.com%2F' /> <param name='embed_code_version' value='2' /> <param name='site_root' value='' /><param name='name' value='titanic_74&#47;Sheet1' /><param name='tabs' value='no' /><param name='toolbar' value='yes' /><param name='static_image' value='https:&#47;&#47;public.tableau.com&#47;static&#47;images&#47;ti&#47;titanic_74&#47;Sheet1&#47;1.png' /> <param name='animate_transition' value='yes' /><param name='display_static_image' value='yes' /><param name='display_spinner' value='yes' /><param name='display_overlay' value='yes' /><param name='display_count' value='yes' /></object></div>                <script type='text/javascript'>                    var divElement = document.getElementById('viz1508164350110');                    var vizElement = divElement.getElementsByTagName('object')[0];                    vizElement.style.width='100%';vizElement.style.height=(divElement.offsetWidth*0.75)+'px';                    var scriptElement = document.createElement('script');                    scriptElement.src = 'https://public.tableau.com/javascripts/api/viz_v1.js';                    vizElement.parentNode.insertBefore(scriptElement, vizElement);                </script>\n",
    "<div class='tableauPlaceholder' id='viz1508164375871' style='position: relative'><noscript><a href='#'><img alt='Histogram of the count of passenger per sex, class and survived metric ' src='https:&#47;&#47;public.tableau.com&#47;static&#47;images&#47;ti&#47;titanic_74&#47;Sheet5&#47;1_rss.png' style='border: none' /></a></noscript><object class='tableauViz'  style='display:none;'><param name='host_url' value='https%3A%2F%2Fpublic.tableau.com%2F' /> <param name='embed_code_version' value='2' /> <param name='site_root' value='' /><param name='name' value='titanic_74&#47;Sheet5' /><param name='tabs' value='no' /><param name='toolbar' value='yes' /><param name='static_image' value='https:&#47;&#47;public.tableau.com&#47;static&#47;images&#47;ti&#47;titanic_74&#47;Sheet5&#47;1.png' /> <param name='animate_transition' value='yes' /><param name='display_static_image' value='yes' /><param name='display_spinner' value='yes' /><param name='display_overlay' value='yes' /><param name='display_count' value='yes' /></object></div>                <script type='text/javascript'>                    var divElement = document.getElementById('viz1508164375871');                    var vizElement = divElement.getElementsByTagName('object')[0];                    vizElement.style.width='100%';vizElement.style.height=(divElement.offsetWidth*0.75)+'px';                    var scriptElement = document.createElement('script');                    scriptElement.src = 'https://public.tableau.com/javascripts/api/viz_v1.js';                    vizElement.parentNode.insertBefore(scriptElement, vizElement);                </script>\n",
    "<div class='tableauPlaceholder' id='viz1508164420828' style='position: relative'><noscript><a href='#'><img alt='Histogram of the count of passenger per sex, embarking port and survived metric ' src='https:&#47;&#47;public.tableau.com&#47;static&#47;images&#47;C7&#47;C7NY687MJ&#47;1_rss.png' style='border: none' /></a></noscript><object class='tableauViz'  style='display:none;'><param name='host_url' value='https%3A%2F%2Fpublic.tableau.com%2F' /> <param name='embed_code_version' value='2' /> <param name='path' value='shared&#47;C7NY687MJ' /> <param name='toolbar' value='yes' /><param name='static_image' value='https:&#47;&#47;public.tableau.com&#47;static&#47;images&#47;C7&#47;C7NY687MJ&#47;1.png' /> <param name='animate_transition' value='yes' /><param name='display_static_image' value='yes' /><param name='display_spinner' value='yes' /><param name='display_overlay' value='yes' /><param name='display_count' value='yes' /></object></div>                <script type='text/javascript'>                    var divElement = document.getElementById('viz1508164420828');                    var vizElement = divElement.getElementsByTagName('object')[0];                    vizElement.style.width='100%';vizElement.style.height=(divElement.offsetWidth*0.75)+'px';                    var scriptElement = document.createElement('script');                    scriptElement.src = 'https://public.tableau.com/javascripts/api/viz_v1.js';                    vizElement.parentNode.insertBefore(scriptElement, vizElement);                </script>\n",
    "<div class='tableauPlaceholder' id='viz1508164603995' style='position: relative'><noscript><a href='#'><img alt='Histogram of the count of passenger per age bin, sex and survived metric ' src='https:&#47;&#47;public.tableau.com&#47;static&#47;images&#47;ti&#47;titanic_74&#47;Sheet11&#47;1_rss.png' style='border: none' /></a></noscript><object class='tableauViz'  style='display:none;'><param name='host_url' value='https%3A%2F%2Fpublic.tableau.com%2F' /> <param name='embed_code_version' value='2' /> <param name='site_root' value='' /><param name='name' value='titanic_74&#47;Sheet11' /><param name='tabs' value='no' /><param name='toolbar' value='yes' /><param name='static_image' value='https:&#47;&#47;public.tableau.com&#47;static&#47;images&#47;ti&#47;titanic_74&#47;Sheet11&#47;1.png' /> <param name='animate_transition' value='yes' /><param name='display_static_image' value='yes' /><param name='display_spinner' value='yes' /><param name='display_overlay' value='yes' /><param name='display_count' value='yes' /></object></div>                <script type='text/javascript'>                    var divElement = document.getElementById('viz1508164603995');                    var vizElement = divElement.getElementsByTagName('object')[0];                    vizElement.style.width='100%';vizElement.style.height=(divElement.offsetWidth*0.75)+'px';                    var scriptElement = document.createElement('script');                    scriptElement.src = 'https://public.tableau.com/javascripts/api/viz_v1.js';                    vizElement.parentNode.insertBefore(scriptElement, vizElement);                </script>\n",
    "<div class='tableauPlaceholder' id='viz1508164984342' style='position: relative'><noscript><a href='#'><img alt='Histogram of the count of passenger per family size and survived metric ' src='https:&#47;&#47;public.tableau.com&#47;static&#47;images&#47;ti&#47;titanic_74&#47;Sheet13&#47;1_rss.png' style='border: none' /></a></noscript><object class='tableauViz'  style='display:none;'><param name='host_url' value='https%3A%2F%2Fpublic.tableau.com%2F' /> <param name='embed_code_version' value='2' /> <param name='site_root' value='' /><param name='name' value='titanic_74&#47;Sheet13' /><param name='tabs' value='no' /><param name='toolbar' value='yes' /><param name='static_image' value='https:&#47;&#47;public.tableau.com&#47;static&#47;images&#47;ti&#47;titanic_74&#47;Sheet13&#47;1.png' /> <param name='animate_transition' value='yes' /><param name='display_static_image' value='yes' /><param name='display_spinner' value='yes' /><param name='display_overlay' value='yes' /><param name='display_count' value='yes' /></object></div>                <script type='text/javascript'>                    var divElement = document.getElementById('viz1508164984342');                    var vizElement = divElement.getElementsByTagName('object')[0];                    vizElement.style.width='100%';vizElement.style.height=(divElement.offsetWidth*0.75)+'px';                    var scriptElement = document.createElement('script');                    scriptElement.src = 'https://public.tableau.com/javascripts/api/viz_v1.js';                    vizElement.parentNode.insertBefore(scriptElement, vizElement);                </script>\n",
    "<div class='tableauPlaceholder' id='viz1508166587856' style='position: relative'><noscript><a href='#'><img alt='Histogram of count of passenger by fare and survived metric ' src='https:&#47;&#47;public.tableau.com&#47;static&#47;images&#47;TJ&#47;TJRPYHSY7&#47;1_rss.png' style='border: none' /></a></noscript><object class='tableauViz'  style='display:none;'><param name='host_url' value='https%3A%2F%2Fpublic.tableau.com%2F' /> <param name='embed_code_version' value='2' /> <param name='path' value='shared&#47;TJRPYHSY7' /> <param name='toolbar' value='yes' /><param name='static_image' value='https:&#47;&#47;public.tableau.com&#47;static&#47;images&#47;TJ&#47;TJRPYHSY7&#47;1.png' /> <param name='animate_transition' value='yes' /><param name='display_static_image' value='yes' /><param name='display_spinner' value='yes' /><param name='display_overlay' value='yes' /><param name='display_count' value='yes' /></object></div>                <script type='text/javascript'>                    var divElement = document.getElementById('viz1508166587856');                    var vizElement = divElement.getElementsByTagName('object')[0];                    vizElement.style.width='100%';vizElement.style.height=(divElement.offsetWidth*0.75)+'px';                    var scriptElement = document.createElement('script');                    scriptElement.src = 'https://public.tableau.com/javascripts/api/viz_v1.js';                    vizElement.parentNode.insertBefore(scriptElement, vizElement);                </script>"
   ]
  },
  {
   "cell_type": "markdown",
   "metadata": {},
   "source": [
    "Comme la plupart des variables sont des variables catégoriques, il semble plus interessant de faire des histogrammes que des matrices de corrélation.\n",
    "Le premier schéma nous montre qu'il y a plus d'hommes que de femmes et que la proportion de femmes qui ont survécu est beaucoup plus grande.\n",
    "\n",
    "Le deuxième schéma montre qu'il y avait plus de passagers en 3ème classe (surtout plus d'hommes) et qu'une proportion plus grande de ceux-ci n'a pas survécu.\n",
    "\n",
    "Le troisième schéma montre que la plupart des passagers ont embarqué à Southampton avec une chance de survie moindre.\n",
    "\n",
    "Sur le quatrième schéma on peut voir que les femmes ont une chance de survivre à peut près égale quelque soit leur age alors que pour les hommes, les enfants de moins de 18 ans ont plus de chance de survivre que les autres.\n",
    "\n",
    "Sur le cinquième schéma, on peut voir que les personnes qui ont entre 1 et 3 membres dans leur famille ont plus de chance de survivre que ceux qui n'en ont pas ou beaucoup plus.\n",
    "\n",
    "Et enfin sur le dernier schéma on peut voir que plus le prix du ticket est cher plus les personnes ont de chance de survivre.\n",
    "\n",
    "A partir de ces vues même partielles, on observe que le sexe, la classe, le point d'embarquement, l'age, la taille de la famille et le prix du ticket ont une importance pour la probabilité de survie.\n",
    "\n",
    "La variable sex peut être simplement binarisée en 0 ou 1.\n",
    "La variable classe peut être laissée telle quelle en effet même si cette catégorie est représentée par un entier, les distances entre classes socio-économiques sont respectées (1 et plus loin de 3 que 2 ne l'est).\n",
    "La variable qui décrit le port d'embarquement devra être encodé sur trois dimensions(C en 0,0,1 ; S en 0,1,0 et Q en 1,0,0 par exemple pour avoir des catégories equidistantes).\n",
    "On peut définir une variable taille de famille FamilleSize = SibSp + Parch.\n",
    "On peut calculer un prix unitaire de ticket comme le prix affiché divisé par le nombre de personnes voyageant avec le même numéro."
   ]
  },
  {
   "cell_type": "code",
   "execution_count": 75,
   "metadata": {
    "collapsed": true
   },
   "outputs": [],
   "source": [
    "from sklearn import preprocessing\n",
    "lb = preprocessing.LabelBinarizer()\n",
    "data['SexBinary']= lb.fit_transform(data['Sex'])\n",
    "\n",
    "data['FamilySize']=data['SibSp']+data['Parch']+1.\n",
    "\n",
    "dummies_Embarked = pd.get_dummies(data['Embarked'])\n",
    "\n",
    "countTicket = data['TicketNumber'].value_counts()\n",
    "data['NbReservations']=data['TicketNumber'].apply(lambda x:countTicket[x])\n",
    "data['FareByPassenger']=data['Fare']/data['NbReservations']\n"
   ]
  },
  {
   "cell_type": "markdown",
   "metadata": {},
   "source": [
    "On a un certain nombre de descripteur, on pourrait chercher à diminuer ce nombre (PCA par exemple) mais comme beaucoup de variable sont des catégories, cela n'est pas adapté.\n",
    "On va donc directement utiliser ces variables comme descripteurs pour entrainer un model.\n",
    "Le modèle retenu est un modèle de foret aléatoire, en effet c'est une methode d'ensemble qui globalement marche bien et le modèle est plus facile à paramétrer que d'autres modèles d'ensemble. Il y a deux paramètres pour ce modèle, le nombre d'arbres à créer et le nombre de descripteurs considérés à chaque noeud. Il a l'avantage aussi de ne pas nécessité de normaliser les données.\n",
    "On divise nos données en deux groupes X_ et X_predict (données en fait issues du fichier test.csv pour lesquelles on veut prédire la probabiité de survie des passagers) puis avec les données X_, on les redivise pour pouvoir tester notre modèle :"
   ]
  },
  {
   "cell_type": "code",
   "execution_count": 76,
   "metadata": {},
   "outputs": [
    {
     "name": "stdout",
     "output_type": "stream",
     "text": [
      "(623, 8)\n"
     ]
    }
   ],
   "source": [
    "data_feature = data[['Age','FareByPassenger','Pclass','FamilySize','Survived','SexBinary']]\n",
    "data_feature = pd.concat([data_feature,dummies_Embarked],axis=1)\n",
    "X = data_feature.loc[data_feature['Survived'].notnull()].drop(['Survived'],axis=1)\n",
    "y = data_feature['Survived'].loc[data_feature['Survived'].notnull()]\n",
    "\n",
    "data_feature_predict = data[['Age','FareByPassenger','Pclass','FamilySize','Survived','SexBinary','PassengerId']]\n",
    "data_feature_predict = pd.concat([data_feature_predict,dummies_Embarked],axis=1)\n",
    "X_predict = data_feature_predict.loc[data_feature_predict['Survived'].isnull()].drop(['Survived'],axis=1)\n",
    "\n",
    "X_, X_test, y_, y_test = train_test_split(X, y, test_size=.3, random_state=0)\n",
    "X_train, X_valid, y_train, y_valid = train_test_split(X, y, test_size=.3, random_state=0)\n",
    "\n",
    "print(X_train.shape)\n"
   ]
  },
  {
   "cell_type": "markdown",
   "metadata": {},
   "source": [
    "On peut alors entrainer un modèle sur les données X_train. On utiliser la fonction GridSearchCV pour faire une recherche des meilleurs paramètres du modèle à utiliser, cette fonction utilise la cross-validation c'est à dire que pour chaque configuration, on divise les données en n groupes ; pour chaque groupe on entraine le modèle sur les n-1 autres groupes et on test le modèle sur le groupe restant et en faisant cela pour chaque groupe on peut avoir une moyenne de performance de régression.\n",
    "On peut ensuite regarder les performances du meilleur modèle sur les données X_test. Comme on cherche des probabilités à partir de labels binaires, il est necessaire de seuiller pour pouvoir comparer avec les labels des données test."
   ]
  },
  {
   "cell_type": "code",
   "execution_count": 77,
   "metadata": {},
   "outputs": [
    {
     "name": "stdout",
     "output_type": "stream",
     "text": [
      "0.392034047912\n",
      "max_features: 'log2'\n",
      "n_estimators: 160\n",
      "0.384870470537\n",
      "Importance des variables:\n",
      "[ 0.28270608  0.25399216  0.06781401  0.08230862  0.27487142  0.01323067\n",
      "  0.00820871  0.01686833]\n",
      "RF part, metrics on test set:\n",
      "             precision    recall  f1-score   support\n",
      "\n",
      "        0.0       0.82      0.86      0.84       168\n",
      "        1.0       0.75      0.69      0.72       100\n",
      "\n",
      "avg / total       0.80      0.80      0.80       268\n",
      "\n"
     ]
    }
   ],
   "source": [
    "forest_params = {'n_estimators':range(10,201,10),'max_features':['auto','sqrt','log2']}\n",
    "rfc = GridSearchCV(RandomForestRegressor(max_features='auto'), forest_params, cv=5)\n",
    "rfc.fit(X_train, y_train)\n",
    "\n",
    "print(rfc.best_score_)                                 \n",
    "\n",
    "for param_name in sorted(forest_params.keys()):\n",
    "    print(\"%s: %r\" % (param_name, rfc.best_params_[param_name]))\n",
    "\n",
    "rf_scores = cross_val_predict(rfc.best_estimator_, X_train, y_train, cv=5)\n",
    "#print(rf_scores)\n",
    "print(rf_scores.mean())\n",
    "print('Importance des variables:')\n",
    "print(rfc.best_estimator_.feature_importances_)\n",
    "\n",
    "predicted_RF = rfc.predict(X_test)\n",
    "print(\"RF part, metrics on test set:\")\n",
    "print(metrics.classification_report(y_test, pd.Series(predicted_RF>0.5).apply(lambda x: int(x))))\n"
   ]
  },
  {
   "cell_type": "markdown",
   "metadata": {},
   "source": [
    "Les variables les plus importantes sont le sexe, l'age et le prix du ticket ce qui confirme les histogrammes montrés précédemment.\n",
    "On peut alors vérifier que le modèle marche dans un cas général en le testant sur les données X_valid qui n'ont jamais été utilisées pour paramétrer le modèle.\n",
    "Si le résultat est satisfaisant on peut prédire la probabilité pour les données sans probabilité de survie, probabilités qu'on enregistre dans le fichier prediction.csv."
   ]
  },
  {
   "cell_type": "code",
   "execution_count": 78,
   "metadata": {},
   "outputs": [
    {
     "name": "stdout",
     "output_type": "stream",
     "text": [
      "RF part, metrics on valid set:\n",
      "             precision    recall  f1-score   support\n",
      "\n",
      "        0.0       0.82      0.86      0.84       168\n",
      "        1.0       0.75      0.69      0.72       100\n",
      "\n",
      "avg / total       0.80      0.80      0.80       268\n",
      "\n"
     ]
    }
   ],
   "source": [
    "valid_RF = rfc.predict(X_valid)\n",
    "print(\"RF part, metrics on valid set:\")\n",
    "print(metrics.classification_report(y_valid, pd.Series(valid_RF>0.5).apply(lambda x: int(x))))\n",
    "\n",
    "X_predict['Survived'] = rfc.predict(X_predict.drop(['PassengerId'],axis=1))\n",
    "X_predict[['PassengerId','Survived']].to_csv('prediction-marc-duda.csv',index=False)"
   ]
  }
 ],
 "metadata": {
  "kernelspec": {
   "display_name": "Python 3",
   "language": "python",
   "name": "python3"
  },
  "language_info": {
   "codemirror_mode": {
    "name": "ipython",
    "version": 3
   },
   "file_extension": ".py",
   "mimetype": "text/x-python",
   "name": "python",
   "nbconvert_exporter": "python",
   "pygments_lexer": "ipython3",
   "version": "3.6.1"
  }
 },
 "nbformat": 4,
 "nbformat_minor": 2
}
